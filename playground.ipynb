{
 "cells": [
  {
   "cell_type": "code",
   "execution_count": 1,
   "metadata": {},
   "outputs": [
    {
     "name": "stderr",
     "output_type": "stream",
     "text": [
      "2022-11-08 22:57:39.483806: W tensorflow/stream_executor/platform/default/dso_loader.cc:64] Could not load dynamic library 'libcudart.so.11.0'; dlerror: libcudart.so.11.0: cannot open shared object file: No such file or directory; LD_LIBRARY_PATH: /home/azka/miniconda3/envs/madani/lib/python3.7/site-packages/cv2/../../lib64:\n",
      "2022-11-08 22:57:39.483839: I tensorflow/stream_executor/cuda/cudart_stub.cc:29] Ignore above cudart dlerror if you do not have a GPU set up on your machine.\n"
     ]
    }
   ],
   "source": [
    "from main import *"
   ]
  },
  {
   "cell_type": "code",
   "execution_count": 12,
   "metadata": {},
   "outputs": [],
   "source": [
    "choosen_images = \"north-tondo-palu\""
   ]
  },
  {
   "cell_type": "code",
   "execution_count": 13,
   "metadata": {},
   "outputs": [
    {
     "name": "stdout",
     "output_type": "stream",
     "text": [
      "Found 170 validated image filenames belonging to 3 classes.\n",
      "3/3 [==============================] - 4s 1s/step\n"
     ]
    }
   ],
   "source": [
    "target_area = \"data/\" + choosen_images\n",
    "result_path = \"result\"\n",
    "img_poly_path = result_path + \"/img_poly\"\n",
    "save_map_path =result_path + \"/result.jpg\"\n",
    "output_csv = result_path + \"/result.csv\"\n",
    "original_mask_path = result_path + \"/original_mask.png\"\n",
    "predicted_mask_path = result_path + \"/result_mask.png\"\n",
    "model_path = \"model/model-building.hdf5\"\n",
    "\n",
    "os.makedirs(img_poly_path, exist_ok = True)\n",
    "\n",
    "for f in os.listdir(target_area):\n",
    "    if f.endswith('post_disaster.png'):\n",
    "        post_img = target_area + \"/\" + f\n",
    "    elif f.endswith('pre_disaster.png'):\n",
    "        pre_img = target_area + \"/\" + f\n",
    "    else:\n",
    "        json_img = target_area + \"/\" + f\n",
    "\n",
    "json_pred = create_prediction(\n",
    "    post_img,\n",
    "    json_img, \n",
    "    model_path, \n",
    "    json_img, \n",
    "    img_poly_path, \n",
    "    output_csv)\n",
    "\n",
    "coords = json_pred['features']['xy']\n",
    "wkt_polygons = [(coord['properties']['subtype'], coord['wkt']) for coord in coords]\n",
    "polygons = [(damage, shapely.wkt.loads(swkt)) for damage, swkt in wkt_polygons]\n",
    "\n",
    "image = Image.open(post_img)\n",
    "draw = ImageDraw.Draw(image, 'RGBA')\n",
    "\n",
    "for damage, polygon in polygons:\n",
    "    x,y = polygon.exterior.coords.xy\n",
    "    draw.polygon(list(zip(x,y)), colors()[damage])\n",
    "image.save(save_map_path, 'png')"
   ]
  }
 ],
 "metadata": {
  "kernelspec": {
   "display_name": "Python 3.7.13 ('madani')",
   "language": "python",
   "name": "python3"
  },
  "language_info": {
   "codemirror_mode": {
    "name": "ipython",
    "version": 3
   },
   "file_extension": ".py",
   "mimetype": "text/x-python",
   "name": "python",
   "nbconvert_exporter": "python",
   "pygments_lexer": "ipython3",
   "version": "3.7.13"
  },
  "orig_nbformat": 4,
  "vscode": {
   "interpreter": {
    "hash": "395416669af666aee116024818d3771144dba292892e0f402e82fa16e24d5fa6"
   }
  }
 },
 "nbformat": 4,
 "nbformat_minor": 2
}
